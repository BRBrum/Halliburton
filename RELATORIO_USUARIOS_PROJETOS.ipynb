{
  "nbformat": 4,
  "nbformat_minor": 0,
  "metadata": {
    "colab": {
      "provenance": [],
      "authorship_tag": "ABX9TyPbe+gWZ5jfvhz7kQBXvkdt",
      "include_colab_link": true
    },
    "kernelspec": {
      "name": "python3",
      "display_name": "Python 3"
    },
    "language_info": {
      "name": "python"
    }
  },
  "cells": [
    {
      "cell_type": "markdown",
      "metadata": {
        "id": "view-in-github",
        "colab_type": "text"
      },
      "source": [
        "<a href=\"https://colab.research.google.com/github/BRBrum/Halliburton/blob/main/RELATORIO_USUARIOS_PROJETOS.ipynb\" target=\"_parent\"><img src=\"https://colab.research.google.com/assets/colab-badge.svg\" alt=\"Open In Colab\"/></a>"
      ]
    },
    {
      "cell_type": "code",
      "source": [
        "# Tabelas do OW - DBA\n",
        "\n",
        "import os\n",
        "import pandas as pd\n",
        "\n",
        "# Defina o caminho da pasta onde os arquivos estão localizados\n",
        "folder_path = '/content/'\n",
        "\n",
        "# Lista para armazenar os DataFrames\n",
        "dataframes = []\n",
        "\n",
        "# Percorra todos os arquivos na pasta\n",
        "for file_name in os.listdir(folder_path):\n",
        "    if file_name.startswith('Listagem') and (file_name.endswith('.txt') or file_name.endswith('.csv')):\n",
        "        file_path = os.path.join(folder_path, file_name)\n",
        "\n",
        "        # Leia o arquivo em um DataFrame, ignorando as linhas de cabeçalho e a linha separadora\n",
        "        df = pd.read_csv(file_path, sep='\\s+', skiprows=2, header=None, names=['PROJECT_DATABASE', 'PROJETO_INTERPRETACAO', 'USUARIO', 'PERMISSAO'])\n",
        "\n",
        "        # Adicione o DataFrame à lista\n",
        "        dataframes.append(df)\n",
        "\n",
        "# Combine todos os DataFrames em um único DataFrame\n",
        "combined_df = pd.concat(dataframes, ignore_index=True)\n",
        "\n",
        "# Lista de usuários oficiais do GBDI\n",
        "#usuarios_gbdi = ['ABMY', 'B9KF', 'E411', 'E4G5', 'E81F', 'F5HP', 'FH9G', 'N7QM', 'NTU8', 'TXKH', 'TYZ2', 'Y11W', 'UT7U', 'UT8M']\n",
        "#RESERVATORIO: Comentar acima e tirar comentário abaixo\n",
        "usuarios_gbdi = ['ABMY', 'AJDI', 'NTPI']\n",
        "\n",
        "# Filtrar para encontrar usuários com permissão de MANAGER que não estão na lista GBDI\n",
        "non_gbdi_managers = combined_df[(combined_df['PERMISSAO'] == 'MANAGER') & (~combined_df['USUARIO'].isin(usuarios_gbdi))]\n",
        "\n",
        "# Listar todos os usuários que não são GBDI e têm permissão de MANAGER\n",
        "print(\"Usuários não GBDI com PERMISSÃO = MANAGER:\")\n",
        "print(non_gbdi_managers['USUARIO'].unique())\n",
        "\n",
        "# Listar em quais projetos esses usuários têm PERMISSÃO = MANAGER\n",
        "print(\"\\nDetalhes de projetos onde usuários não GBDI têm PERMISSÃO = MANAGER:\")\n",
        "print(non_gbdi_managers[['USUARIO', 'PROJETO_INTERPRETACAO']].drop_duplicates())\n"
      ],
      "metadata": {
        "colab": {
          "base_uri": "https://localhost:8080/"
        },
        "id": "ELNrR4j7wzhQ",
        "outputId": "1059ded0-c96a-4e25-dac8-8efdb67fdcb0"
      },
      "execution_count": 13,
      "outputs": [
        {
          "output_type": "stream",
          "name": "stdout",
          "text": [
            "Usuários não GBDI com PERMISSÃO = MANAGER:\n",
            "[]\n",
            "\n",
            "Detalhes de projetos onde usuários não GBDI têm PERMISSÃO = MANAGER:\n",
            "Empty DataFrame\n",
            "Columns: [USUARIO, PROJETO_INTERPRETACAO]\n",
            "Index: []\n"
          ]
        }
      ]
    },
    {
      "cell_type": "code",
      "source": [
        "# Tabela da Ju\n",
        "\n",
        "import os\n",
        "import pandas as pd\n",
        "\n",
        "# Definir o caminho da pasta onde os arquivos estão localizados\n",
        "folder_path = '/content/'\n",
        "file_name = 'Perfis_iEnergy_jul24_COPY.csv'\n",
        "file_path = os.path.join(folder_path, file_name)\n",
        "\n",
        "# Carregar o arquivo de perfis se disponível\n",
        "if os.path.isfile(file_path):\n",
        "    df_perfis = pd.read_csv(file_path, delimiter=';', skip_blank_lines=True)\n",
        "    print(f\"Arquivo '{file_name}' carregado com sucesso.\")\n",
        "else:\n",
        "    print(f\"Arquivo '{file_name}' não encontrado na pasta '{folder_path}'.\")"
      ],
      "metadata": {
        "colab": {
          "base_uri": "https://localhost:8080/"
        },
        "id": "MnRB8Wk9wzl3",
        "outputId": "b771bbb1-1426-4a1d-b13a-6eebf1d4fddc"
      },
      "execution_count": 14,
      "outputs": [
        {
          "output_type": "stream",
          "name": "stdout",
          "text": [
            "Arquivo 'Perfis_iEnergy_jul24_COPY.csv' carregado com sucesso.\n"
          ]
        }
      ]
    },
    {
      "cell_type": "code",
      "source": [
        "# União das Tabelas\n",
        "\n",
        "import pandas as pd\n",
        "\n",
        "# Suponha que df_perfis já esteja definido e carregado com as colunas 'CHAVE' e 'NOME'\n",
        "# Suponha que combined_df já esteja definido e utilizado para outras análises como mencionado anteriormente\n",
        "\n",
        "# 1 Lista de IDs de usuários GBDI\n",
        "#usuarios_gbdi = ['ABMY', 'B9KF', 'E411', 'E4G5', 'E81F', 'F5HP', 'FH9G', 'N7QM', 'NTU8', 'TXKH', 'TYZ2', 'Y11W', 'UT7U', 'UT8M']\n",
        "usuarios_gbdi = ['ABMY', 'AJDI', 'NTPI']\n",
        "\n",
        "# Filtrar os dados de perfis para obter apenas os usuários GBDI\n",
        "usuarios_gbdi_info = df_perfis[df_perfis['CHAVE'].isin(usuarios_gbdi)]\n",
        "\n",
        "# Converter nomes para maiúsculas, se desejar manter consistência de formatação\n",
        "usuarios_gbdi_info['NOME'] = usuarios_gbdi_info['NOME'].str.upper()\n",
        "\n",
        "# Mostrar os nomes dos usuários GBDI\n",
        "print(\"Nomes dos usuários GBDI oficiais:\")\n",
        "print(usuarios_gbdi_info[['CHAVE', 'NOME']])\n"
      ],
      "metadata": {
        "colab": {
          "base_uri": "https://localhost:8080/"
        },
        "id": "ddytU9IFwzov",
        "outputId": "a85a31c9-0ebd-470f-bc1d-6cb7f3a14997"
      },
      "execution_count": 15,
      "outputs": [
        {
          "output_type": "stream",
          "name": "stdout",
          "text": [
            "Nomes dos usuários GBDI oficiais:\n",
            "    CHAVE                        NOME\n",
            "1    ABMY  RODRIGO BETTIM BERGAMASCHI\n",
            "3    AJDI     LEANDRO DE MELO VASSALO\n",
            "184  NTPI      THIAGO RODRIGO PERILLE\n"
          ]
        },
        {
          "output_type": "stream",
          "name": "stderr",
          "text": [
            "<ipython-input-15-c017c6c16fdd>:16: SettingWithCopyWarning: \n",
            "A value is trying to be set on a copy of a slice from a DataFrame.\n",
            "Try using .loc[row_indexer,col_indexer] = value instead\n",
            "\n",
            "See the caveats in the documentation: https://pandas.pydata.org/pandas-docs/stable/user_guide/indexing.html#returning-a-view-versus-a-copy\n",
            "  usuarios_gbdi_info['NOME'] = usuarios_gbdi_info['NOME'].str.upper()\n"
          ]
        }
      ]
    },
    {
      "cell_type": "code",
      "source": [
        "# Usuários GBDI por GERÊNCIA\n",
        "\n",
        "import pandas as pd\n",
        "\n",
        "# Suponha que df_perfis já esteja definido e carregado com as colunas 'CHAVE', 'NOME' e 'GERÊNCIA'\n",
        "\n",
        "# Lista de IDs de usuários GBDI\n",
        "#usuarios_gbdi = ['ABMY', 'B9KF', 'E411', 'E4G5', 'E81F', 'F5HP', 'FH9G', 'N7QM', 'NTU8', 'TXKH', 'TYZ2', 'Y11W', 'UT7U', 'UT8M']\n",
        "usuarios_gbdi = ['ABMY', 'AJDI', 'NTPI']\n",
        "\n",
        "# Filtrar os dados de perfis para obter apenas os usuários GBDI\n",
        "usuarios_gbdi_info = df_perfis[df_perfis['CHAVE'].isin(usuarios_gbdi)]\n",
        "\n",
        "# Garantir que estamos pegando apenas os usuários GBDI com as colunas relevantes\n",
        "usuarios_gbdi_info = usuarios_gbdi_info[['CHAVE', 'NOME', 'GERÊNCIA']]\n",
        "\n",
        "# Agrupar os usuários por GERÊNCIA\n",
        "usuarios_gbdi_por_gerencia = usuarios_gbdi_info.groupby('GERÊNCIA')\n",
        "\n",
        "# Imprimir os usuários GBDI por GERÊNCIA\n",
        "print(\"Usuários GBDI por GERÊNCIA:\")\n",
        "for gerencia, grupo in usuarios_gbdi_por_gerencia:\n",
        "    print(f\"\\nGERÊNCIA: {gerencia}\")\n",
        "    print(grupo[['CHAVE', 'NOME']])"
      ],
      "metadata": {
        "colab": {
          "base_uri": "https://localhost:8080/"
        },
        "id": "ea-UC5wgwzzl",
        "outputId": "ac246fd4-8d95-4d6a-b667-4fd3daf45a8c"
      },
      "execution_count": 16,
      "outputs": [
        {
          "output_type": "stream",
          "name": "stdout",
          "text": [
            "Usuários GBDI por GERÊNCIA:\n",
            "\n",
            "GERÊNCIA: RES/GDTD/GDS\n",
            "  CHAVE                        NOME\n",
            "1  ABMY  RODRIGO BETTIM BERGAMASCHI\n",
            "\n",
            "GERÊNCIA: RES/TR/GFR\n",
            "    CHAVE                     NOME\n",
            "3    AJDI  Leandro De Melo Vassalo\n",
            "184  NTPI   THIAGO RODRIGO PERILLE\n"
          ]
        }
      ]
    },
    {
      "cell_type": "code",
      "source": [
        "# Usuários não GBDI com PERMISSÃO = MANAGER e seus projetos:\n",
        "\n",
        "import pandas as pd\n",
        "\n",
        "# Suponha que df_perfis já esteja definido e carregado com as colunas 'CHAVE' e 'NOME'\n",
        "# Suponha que combined_df já esteja definido e utilizado para outras análises\n",
        "\n",
        "# 1 Lista de IDs de usuários GBDI\n",
        "#usuarios_gbdi = ['ABMY', 'B9KF', 'E411', 'E4G5', 'E81F', 'F5HP', 'FH9G', 'N7QM', 'NTU8', 'TXKH', 'TYZ2', 'Y11W', 'UT7U', 'UT8M']\n",
        "usuarios_gbdi = ['ABMY', 'AJDI', 'NTPI']\n",
        "\n",
        "# Filtrar para encontrar usuários com permissão de MANAGER que não estão na lista GBDI\n",
        "non_gbdi_managers = combined_df[(combined_df['PERMISSAO'] == 'MANAGER') & (~combined_df['USUARIO'].isin(usuarios_gbdi))]\n",
        "\n",
        "# Exibir usuários não GBDI com permissão de MANAGER e os projetos onde têm esse acesso\n",
        "print(\"Usuários não GBDI com PERMISSÃO = MANAGER e seus projetos:\")\n",
        "print(non_gbdi_managers[['USUARIO', 'PROJETO_INTERPRETACAO']])\n",
        "\n",
        "# Se quiser incluir mais informações como o nome completo dos usuários do df_perfis\n",
        "# Faça um merge/join entre non_gbdi_managers e df_perfis baseado na chave 'USUARIO'\n",
        "if not non_gbdi_managers.empty:\n",
        "    non_gbdi_managers_detailed = non_gbdi_managers.merge(df_perfis, left_on='USUARIO', right_on='CHAVE', how='left')\n",
        "    print(\"\\nDetalhes dos usuários não GBDI com PERMISSÃO = MANAGER e seus projetos:\")\n",
        "    print(non_gbdi_managers_detailed[['USUARIO', 'NOME', 'PROJETO_INTERPRETACAO']])\n",
        "else:\n",
        "    print(\"Não há usuários não GBDI com PERMISSÃO = MANAGER.\")\n"
      ],
      "metadata": {
        "colab": {
          "base_uri": "https://localhost:8080/"
        },
        "id": "Xgb32yrCwzqz",
        "outputId": "00df36c6-0446-45ec-8de3-0a3dbece4b0c"
      },
      "execution_count": 17,
      "outputs": [
        {
          "output_type": "stream",
          "name": "stdout",
          "text": [
            "Usuários não GBDI com PERMISSÃO = MANAGER e seus projetos:\n",
            "Empty DataFrame\n",
            "Columns: [USUARIO, PROJETO_INTERPRETACAO]\n",
            "Index: []\n",
            "Não há usuários não GBDI com PERMISSÃO = MANAGER.\n"
          ]
        }
      ]
    },
    {
      "cell_type": "code",
      "source": [
        "# Projetos e permissões onde usuários GBDI não têm acesso MANAGE e quais são esses acessos, com nomes:\n",
        "\n",
        "import pandas as pd\n",
        "\n",
        "# Suponha que combined_df e df_perfis já estejam definidos e utilizados para outras análises\n",
        "\n",
        "# Lista de IDs de usuários GBDI\n",
        "#usuarios_gbdi = ['ABMY', 'B9KF', 'E411', 'E4G5', 'E81F', 'F5HP', 'FH9G', 'N7QM', 'NTU8', 'TXKH', 'TYZ2', 'Y11W', 'UT7U', 'UT8M']\n",
        "usuarios_gbdi = ['ABMY', 'AJDI', 'NTPI']\n",
        "\n",
        "# Filtrar combined_df para obter apenas os registros dos usuários GBDI\n",
        "gbdi_users = combined_df[combined_df['USUARIO'].isin(usuarios_gbdi)]\n",
        "\n",
        "# Filtrar para encontrar onde esses usuários GBDI não têm permissão de MANAGE e onde a permissão é diferente de MANAGE\n",
        "gbdi_non_manager_access = gbdi_users[gbdi_users['PERMISSAO'] != 'MANAGE']\n",
        "\n",
        "# Certificar que estamos listando apenas os acessos que são explicitamente diferentes de 'MANAGE'\n",
        "gbdi_non_manager_specific_access = gbdi_non_manager_access[gbdi_non_manager_access['PERMISSAO'] != 'MANAGE']\n",
        "\n",
        "# Juntar os resultados com df_perfis para adicionar o nome do usuário\n",
        "# Assumindo que df_perfis tem uma coluna 'CHAVE' para a chave do usuário e 'NOME' para o nome do usuário\n",
        "gbdi_non_manager_with_names = gbdi_non_manager_specific_access.merge(df_perfis, left_on='USUARIO', right_on='CHAVE', how='left')\n",
        "\n",
        "# Listar os projetos, as permissões e os nomes desses usuários GBDI\n",
        "print(\"Projetos e permissões onde usuários GBDI não têm acesso MANAGE e quais são esses acessos, com nomes:\")\n",
        "print(gbdi_non_manager_with_names[['USUARIO', 'NOME', 'PROJETO_INTERPRETACAO', 'PERMISSAO']])"
      ],
      "metadata": {
        "colab": {
          "base_uri": "https://localhost:8080/"
        },
        "id": "iCoRGe_-wztE",
        "outputId": "a5a46786-010a-4db9-8c90-14c3a99ca277"
      },
      "execution_count": 18,
      "outputs": [
        {
          "output_type": "stream",
          "name": "stdout",
          "text": [
            "Projetos e permissões onde usuários GBDI não têm acesso MANAGE e quais são esses acessos, com nomes:\n",
            "Empty DataFrame\n",
            "Columns: [USUARIO, NOME, PROJETO_INTERPRETACAO, PERMISSAO]\n",
            "Index: []\n"
          ]
        }
      ]
    },
    {
      "cell_type": "code",
      "source": [
        "# Usuários GBDI sem nenhum acesso nos projetos com nomes\n",
        "\n",
        "import pandas as pd\n",
        "from itertools import product\n",
        "\n",
        "# Suponha que combined_df e df_perfis já estejam definidos e utilizados para outras análises\n",
        "\n",
        "# Lista de IDs de usuários GBDI\n",
        "#usuarios_gbdi = ['ABMY', 'B9KF', 'E411', 'E4G5', 'E81F', 'F5HP', 'FH9G', 'N7QM', 'NTU8', 'TXKH', 'TYZ2', 'Y11W', 'UT7U', 'UT8M']\n",
        "usuarios_gbdi = ['ABMY', 'AJDI', 'NTPI']\n",
        "\n",
        "# Identificar todos os projetos listados em combined_df\n",
        "projetos = combined_df['PROJETO_INTERPRETACAO'].unique()\n",
        "\n",
        "# Criar um DataFrame com todas as combinações possíveis de usuários GBDI e projetos\n",
        "all_combinations = pd.DataFrame(list(product(usuarios_gbdi, projetos)), columns=['USUARIO', 'PROJETO_INTERPRETACAO'])\n",
        "\n",
        "# Fazer um left join com combined_df para identificar onde faltam permissões\n",
        "missing_access = all_combinations.merge(\n",
        "    combined_df[['USUARIO', 'PROJETO_INTERPRETACAO']],\n",
        "    on=['USUARIO', 'PROJETO_INTERPRETACAO'],\n",
        "    how='left',\n",
        "    indicator=True\n",
        ")\n",
        "\n",
        "# Filtrar apenas as combinações onde não há correspondência em combined_df\n",
        "missing_access = missing_access[missing_access['_merge'] == 'left_only']\n",
        "\n",
        "# Remover a coluna de merge indicator\n",
        "missing_access.drop(columns=['_merge'], inplace=True)\n",
        "\n",
        "# Adicionar informações do nome do usuário\n",
        "missing_access = missing_access.merge(df_perfis[['CHAVE', 'NOME']], left_on='USUARIO', right_on='CHAVE', how='left')\n",
        "\n",
        "# Listar os usuários e projetos GBDI sem nenhum acesso com nomes\n",
        "print(\"Usuários GBDI sem nenhum acesso nos projetos com nomes:\")\n",
        "print(missing_access[['USUARIO', 'NOME', 'PROJETO_INTERPRETACAO']].drop_duplicates())\n",
        "\n",
        "# Salvar os resultados em um arquivo CSV\n",
        "missing_access[['USUARIO', 'NOME', 'PROJETO_INTERPRETACAO']].drop_duplicates().to_csv('missing_gbdi_access_with_names.csv', index=False)\n",
        "print(\"Os dados foram salvos em 'missing_gbdi_access_with_names.csv'.\")\n"
      ],
      "metadata": {
        "colab": {
          "base_uri": "https://localhost:8080/"
        },
        "id": "v2Fegq-5wzxb",
        "outputId": "0d430535-905e-44b6-95de-98dfba41996c"
      },
      "execution_count": 19,
      "outputs": [
        {
          "output_type": "stream",
          "name": "stdout",
          "text": [
            "Usuários GBDI sem nenhum acesso nos projetos com nomes:\n",
            "    USUARIO                        NOME PROJETO_INTERPRETACAO\n",
            "0      ABMY  RODRIGO BETTIM BERGAMASCHI             FL2D_IP_1\n",
            "1      ABMY  RODRIGO BETTIM BERGAMASCHI       FL2D_MERGE_IP_1\n",
            "2      ABMY  RODRIGO BETTIM BERGAMASCHI          FL3D_NW_IP_1\n",
            "3      ABMY  RODRIGO BETTIM BERGAMASCHI          FL3D_SE_IP_1\n",
            "4      ABMY  RODRIGO BETTIM BERGAMASCHI          FLNDR3D_IP_1\n",
            "..      ...                         ...                   ...\n",
            "157    NTPI      THIAGO RODRIGO PERILLE       FL2D_MERGE_IP_1\n",
            "158    NTPI      THIAGO RODRIGO PERILLE          FL3D_NW_IP_1\n",
            "159    NTPI      THIAGO RODRIGO PERILLE          FL3D_SE_IP_1\n",
            "160    NTPI      THIAGO RODRIGO PERILLE          FLNDR3D_IP_1\n",
            "161    NTPI      THIAGO RODRIGO PERILLE            R5000_DEMO\n",
            "\n",
            "[162 rows x 3 columns]\n",
            "Os dados foram salvos em 'missing_gbdi_access_with_names.csv'.\n"
          ]
        }
      ]
    },
    {
      "cell_type": "code",
      "source": [
        "# Quantidade de usuários que não são GBDI por PROJECT_DATABASE\n",
        "\n",
        "import pandas as pd\n",
        "\n",
        "# Suponha que combined_df já esteja definido e utilizado para outras análises\n",
        "\n",
        "# Lista de IDs de usuários GBDI\n",
        "#usuarios_gbdi = ['ABMY', 'B9KF', 'E411', 'E4G5', 'E81F', 'F5HP', 'FH9G', 'N7QM', 'NTU8', 'TXKH', 'TYZ2', 'Y11W', 'UT7U', 'UT8M']\n",
        "usuarios_gbdi = ['ABMY', 'AJDI', 'NTPI']\n",
        "\n",
        "# Filtrar combined_df para excluir os usuários GBDI\n",
        "usuarios_nao_gbdi = combined_df[~combined_df['USUARIO'].isin(usuarios_gbdi)]\n",
        "\n",
        "# Agrupar por PROJECT_DATABASE e contar a quantidade de usuários únicos em cada projeto\n",
        "usuarios_por_projeto = usuarios_nao_gbdi.groupby('PROJECT_DATABASE')['USUARIO'].nunique()\n",
        "\n",
        "# Imprimir o resultado\n",
        "print(\"Quantidade de usuários que não são GBDI por PROJECT_DATABASE:\")\n",
        "print(usuarios_por_projeto)\n",
        "### LISTAR QUAIS SÃO OS USUÁRIOS"
      ],
      "metadata": {
        "colab": {
          "base_uri": "https://localhost:8080/"
        },
        "id": "GJ7qcrUt6cJq",
        "outputId": "7b6ba111-ad36-435a-c1b6-a9aa23f9e49e"
      },
      "execution_count": 20,
      "outputs": [
        {
          "output_type": "stream",
          "name": "stdout",
          "text": [
            "Quantidade de usuários que não são GBDI por PROJECT_DATABASE:\n",
            "PROJECT_DATABASE\n",
            "ALBACORA_UTM39W_PD      16\n",
            "BACIA_ES_UTM39W_PD       6\n",
            "BUZIOS_UT8Y              5\n",
            "BUZ_POS_UTM45_PD        12\n",
            "BUZ_PRE_UTM45_PD        11\n",
            "CAMPOS_GFR_PD            5\n",
            "GMR_PD                   6\n",
            "GMR_UTM45W_PD            6\n",
            "IARA_UTM45W_PD           9\n",
            "ITAPU_UTM45W_PD          7\n",
            "JUPITER_UTM45W_PD        8\n",
            "MXL_URG_MLZ_UTM45_PD    12\n",
            "NORWAY_10EP              8\n",
            "PCR_AMBES                3\n",
            "PEM_UTM_SIRGAS39W        1\n",
            "PQB_UTM39W_PD           15\n",
            "R5000_DEMO               2\n",
            "RONCADOR_UTM39W_PD      12\n",
            "SANTOS_GFR_PD            3\n",
            "SEAL_UTM39W_PD          11\n",
            "SEPIA_UTM45W_PD          9\n",
            "SPH_IRA_UTM45W_PD       14\n",
            "TUPI_UTM45W_PD          11\n",
            "Name: USUARIO, dtype: int64\n"
          ]
        }
      ]
    },
    {
      "cell_type": "code",
      "source": [
        "# Quantidade de usuários que não são GBDI por PROJETO_INTERPRETACAO\n",
        "\n",
        "import pandas as pd\n",
        "\n",
        "# Suponha que combined_df já esteja definido e utilizado para outras análises\n",
        "\n",
        "# Lista de IDs de usuários GBDI\n",
        "#usuarios_gbdi = ['ABMY', 'B9KF', 'E411', 'E4G5', 'E81F', 'F5HP', 'FH9G', 'N7QM', 'NTU8', 'TXKH', 'TYZ2', 'Y11W', 'UT7U', 'UT8M']\n",
        "usuarios_gbdi = ['ABMY', 'AJDI', 'NTPI']\n",
        "\n",
        "# Filtrar combined_df para excluir os usuários GBDI\n",
        "usuarios_nao_gbdi = combined_df[~combined_df['USUARIO'].isin(usuarios_gbdi)]\n",
        "\n",
        "# Agrupar por PROJETO_INTERPRETACAO e contar a quantidade de usuários únicos em cada projeto\n",
        "usuarios_por_projeto = usuarios_nao_gbdi.groupby('PROJETO_INTERPRETACAO')['USUARIO'].nunique()\n",
        "\n",
        "# Imprimir o resultado\n",
        "print(\"Quantidade de usuários que não são GBDI por PROJETO_INTERPRETACAO:\")\n",
        "print(usuarios_por_projeto)\n"
      ],
      "metadata": {
        "colab": {
          "base_uri": "https://localhost:8080/"
        },
        "id": "BRIxveWt7wgj",
        "outputId": "fe84721c-ff95-44da-82ae-0823b9ca6c21"
      },
      "execution_count": 21,
      "outputs": [
        {
          "output_type": "stream",
          "name": "stdout",
          "text": [
            "Quantidade de usuários que não são GBDI por PROJETO_INTERPRETACAO:\n",
            "PROJETO_INTERPRETACAO\n",
            "ABLESTE_IP             2\n",
            "ALBACORA_GFR_IP        3\n",
            "ALBACORA_IP_GM         2\n",
            "ALBACORA_RONCADOR      2\n",
            "ALBACORA_UTM39W_PD    15\n",
            "                      ..\n",
            "TUPI_1                 2\n",
            "TUPI_IP               10\n",
            "TUPI_UTM45W_PD         8\n",
            "UOBS_IRACEMA_RES      11\n",
            "UOBS_SAPINHOA_RES     13\n",
            "Name: USUARIO, Length: 279, dtype: int64\n"
          ]
        }
      ]
    },
    {
      "cell_type": "code",
      "source": [
        "# Projetos com apenas um usuário que não seja USUÁRIO GBDI (incluindo PROJECT_DATABASE e o nome do usuário na saída)\n",
        "import pandas as pd\n",
        "\n",
        "# Suponha que combined_df e df_perfis já estejam definidos e utilizados para outras análises\n",
        "\n",
        "# Lista de IDs de usuários GBDI\n",
        "#usuarios_gbdi = ['ABMY', 'B9KF', 'E411', 'E4G5', 'E81F', 'F5HP', 'FH9G', 'N7QM', 'NTU8', 'TXKH', 'TYZ2', 'Y11W', 'UT7U', 'UT8M']\n",
        "usuarios_gbdi = ['ABMY', 'AJDI', 'NTPI']\n",
        "\n",
        "# Filtrar combined_df para excluir os usuários GBDI\n",
        "usuarios_nao_gbdi = combined_df[~combined_df['USUARIO'].isin(usuarios_gbdi)]\n",
        "\n",
        "# Agrupar por PROJETO_INTERPRETACAO e contar a quantidade de usuários únicos em cada projeto\n",
        "usuarios_por_projeto = usuarios_nao_gbdi.groupby('PROJETO_INTERPRETACAO')['USUARIO'].nunique()\n",
        "\n",
        "# Filtrar para encontrar projetos com exatamente um usuário não GBDI\n",
        "projetos_com_um_nao_gbdi = usuarios_por_projeto[usuarios_por_projeto == 1].index\n",
        "\n",
        "# Filtrar o DataFrame original para obter detalhes dos projetos com um único usuário não GBDI\n",
        "detalhes_projetos = usuarios_nao_gbdi[usuarios_nao_gbdi['PROJETO_INTERPRETACAO'].isin(projetos_com_um_nao_gbdi)]\n",
        "\n",
        "# Juntar os resultados com df_perfis para adicionar o nome do usuário\n",
        "detalhes_projetos = detalhes_projetos.merge(df_perfis[['CHAVE', 'NOME']], left_on='USUARIO', right_on='CHAVE', how='left')\n",
        "\n",
        "# Manter apenas a primeira entrada de cada projeto (pois todos terão um único usuário)\n",
        "detalhes_projetos = detalhes_projetos.drop_duplicates(subset=['PROJETO_INTERPRETACAO'])\n",
        "\n",
        "# Imprimir o resultado\n",
        "print(\"Projetos com apenas um usuário que não seja USUÁRIO GBDI, incluindo PROJECT_DATABASE e o nome do usuário:\")\n",
        "print(detalhes_projetos[['PROJETO_INTERPRETACAO', 'PROJECT_DATABASE', 'USUARIO', 'NOME']])\n"
      ],
      "metadata": {
        "colab": {
          "base_uri": "https://localhost:8080/"
        },
        "id": "u8pjeVxu6cMS",
        "outputId": "9414b9d7-2764-4d10-ed53-824af0454796"
      },
      "execution_count": 22,
      "outputs": [
        {
          "output_type": "stream",
          "name": "stdout",
          "text": [
            "Projetos com apenas um usuário que não seja USUÁRIO GBDI, incluindo PROJECT_DATABASE e o nome do usuário:\n",
            "  PROJETO_INTERPRETACAO   PROJECT_DATABASE USUARIO  \\\n",
            "0   BRC_PEM_UTM_SRGS39W  PEM_UTM_SIRGAS39W    E8VQ   \n",
            "1  IARA_PEM_UTM_SRGS45W  PEM_UTM_SIRGAS39W    E8VQ   \n",
            "2   JUB_PEM_UTM_SRGS39W  PEM_UTM_SIRGAS39W    E8VQ   \n",
            "3   MRL_PEM_UTM_SRGS39W  PEM_UTM_SIRGAS39W    E8VQ   \n",
            "4     PEM_UTM_SIRGAS39W  PEM_UTM_SIRGAS39W    E8VQ   \n",
            "5  RO_PEM_UTM_SIRGAS39W  PEM_UTM_SIRGAS39W    E8VQ   \n",
            "\n",
            "                             NOME  \n",
            "0  RICARDO TEIXEIRA NICACIO LEITE  \n",
            "1  RICARDO TEIXEIRA NICACIO LEITE  \n",
            "2  RICARDO TEIXEIRA NICACIO LEITE  \n",
            "3  RICARDO TEIXEIRA NICACIO LEITE  \n",
            "4  RICARDO TEIXEIRA NICACIO LEITE  \n",
            "5  RICARDO TEIXEIRA NICACIO LEITE  \n"
          ]
        }
      ]
    },
    {
      "cell_type": "code",
      "source": [
        "# Projetos com apenas um usuário GBDI  (incluindo PROJECT_DATABASE e o nome do usuário na saída):\n",
        "\n",
        "import pandas as pd\n",
        "\n",
        "# Suponha que combined_df e df_perfis já estejam definidos e utilizados para outras análises\n",
        "\n",
        "# Lista de IDs de usuários GBDI\n",
        "#usuarios_gbdi = ['ABMY', 'B9KF', 'E411', 'E4G5', 'E81F', 'F5HP', 'FH9G', 'N7QM', 'NTU8', 'TXKH', 'TYZ2', 'Y11W', 'UT7U', 'UT8M']\n",
        "usuarios_gbdi = ['ABMY', 'AJDI', 'NTPI']\n",
        "\n",
        "# Filtrar combined_df para incluir apenas os usuários GBDI\n",
        "usuarios_gbdi_df = combined_df[combined_df['USUARIO'].isin(usuarios_gbdi)]\n",
        "\n",
        "# Agrupar por PROJETO_INTERPRETACAO e contar a quantidade de usuários GBDI únicos em cada projeto\n",
        "usuarios_gbdi_por_projeto = usuarios_gbdi_df.groupby('PROJETO_INTERPRETACAO')['USUARIO'].nunique()\n",
        "\n",
        "# Filtrar para encontrar projetos com exatamente um usuário GBDI\n",
        "projetos_com_um_gbdi = usuarios_gbdi_por_projeto[usuarios_gbdi_por_projeto == 1].index\n",
        "\n",
        "# Filtrar o DataFrame original para obter detalhes dos projetos com um único usuário GBDI\n",
        "detalhes_projetos_gbdi = usuarios_gbdi_df[usuarios_gbdi_df['PROJETO_INTERPRETACAO'].isin(projetos_com_um_gbdi)]\n",
        "\n",
        "# Juntar os resultados com df_perfis para adicionar o nome do usuário\n",
        "detalhes_projetos_gbdi = detalhes_projetos_gbdi.merge(df_perfis[['CHAVE', 'NOME']], left_on='USUARIO', right_on='CHAVE', how='left')\n",
        "\n",
        "# Manter apenas a primeira entrada de cada projeto (pois todos terão um único usuário)\n",
        "detalhes_projetos_gbdi = detalhes_projetos_gbdi.drop_duplicates(subset=['PROJETO_INTERPRETACAO'])\n",
        "\n",
        "# Imprimir o resultado\n",
        "print(\"Projetos com apenas um usuário GBDI, incluindo PROJECT_DATABASE e o nome do usuário:\")\n",
        "print(detalhes_projetos_gbdi[['PROJETO_INTERPRETACAO', 'PROJECT_DATABASE', 'USUARIO', 'NOME']])\n"
      ],
      "metadata": {
        "colab": {
          "base_uri": "https://localhost:8080/"
        },
        "id": "3skm6ckA6cRM",
        "outputId": "e584d5ed-df6b-49af-93c9-661bb66e23e3"
      },
      "execution_count": 23,
      "outputs": [
        {
          "output_type": "stream",
          "name": "stdout",
          "text": [
            "Projetos com apenas um usuário GBDI, incluindo PROJECT_DATABASE e o nome do usuário:\n",
            "  PROJETO_INTERPRETACAO   PROJECT_DATABASE USUARIO                        NOME\n",
            "0   BRC_PEM_UTM_SRGS39W  PEM_UTM_SIRGAS39W    ABMY  RODRIGO BETTIM BERGAMASCHI\n",
            "1  IARA_PEM_UTM_SRGS45W  PEM_UTM_SIRGAS39W    ABMY  RODRIGO BETTIM BERGAMASCHI\n",
            "2   JUB_PEM_UTM_SRGS39W  PEM_UTM_SIRGAS39W    ABMY  RODRIGO BETTIM BERGAMASCHI\n",
            "3   MRL_PEM_UTM_SRGS39W  PEM_UTM_SIRGAS39W    ABMY  RODRIGO BETTIM BERGAMASCHI\n",
            "4     PEM_UTM_SIRGAS39W  PEM_UTM_SIRGAS39W    ABMY  RODRIGO BETTIM BERGAMASCHI\n",
            "5  RO_PEM_UTM_SIRGAS39W  PEM_UTM_SIRGAS39W    ABMY  RODRIGO BETTIM BERGAMASCHI\n"
          ]
        }
      ]
    },
    {
      "cell_type": "code",
      "source": [],
      "metadata": {
        "id": "bauzo-0y6cTk"
      },
      "execution_count": null,
      "outputs": []
    },
    {
      "cell_type": "code",
      "source": [],
      "metadata": {
        "id": "6NzBzk976cVq"
      },
      "execution_count": null,
      "outputs": []
    },
    {
      "cell_type": "code",
      "source": [],
      "metadata": {
        "id": "KdoCkv4t6cXk"
      },
      "execution_count": null,
      "outputs": []
    },
    {
      "cell_type": "code",
      "source": [],
      "metadata": {
        "id": "fPrD11cQ6cZq"
      },
      "execution_count": null,
      "outputs": []
    },
    {
      "cell_type": "code",
      "source": [],
      "metadata": {
        "id": "1IU2b3ZH6cb5"
      },
      "execution_count": null,
      "outputs": []
    },
    {
      "cell_type": "code",
      "source": [],
      "metadata": {
        "id": "zcso3BJN6cdt"
      },
      "execution_count": null,
      "outputs": []
    },
    {
      "cell_type": "code",
      "source": [],
      "metadata": {
        "id": "h_e9yA666cfi"
      },
      "execution_count": null,
      "outputs": []
    },
    {
      "cell_type": "code",
      "source": [],
      "metadata": {
        "id": "9eo7O6NX6chT"
      },
      "execution_count": null,
      "outputs": []
    },
    {
      "cell_type": "code",
      "source": [],
      "metadata": {
        "id": "poJD0s4g6cjS"
      },
      "execution_count": null,
      "outputs": []
    },
    {
      "cell_type": "code",
      "source": [],
      "metadata": {
        "id": "tOyKAdOB6clN"
      },
      "execution_count": null,
      "outputs": []
    },
    {
      "cell_type": "code",
      "source": [],
      "metadata": {
        "id": "xCjeglCE6cna"
      },
      "execution_count": null,
      "outputs": []
    },
    {
      "cell_type": "code",
      "source": [],
      "metadata": {
        "id": "i1dYmWIS6cpS"
      },
      "execution_count": null,
      "outputs": []
    },
    {
      "cell_type": "code",
      "source": [],
      "metadata": {
        "id": "39W652UY6crC"
      },
      "execution_count": null,
      "outputs": []
    },
    {
      "cell_type": "code",
      "source": [],
      "metadata": {
        "id": "RmC5mjTcwz1j"
      },
      "execution_count": null,
      "outputs": []
    },
    {
      "cell_type": "code",
      "source": [],
      "metadata": {
        "id": "gs-XlG0-wz3k"
      },
      "execution_count": null,
      "outputs": []
    },
    {
      "cell_type": "code",
      "source": [],
      "metadata": {
        "id": "K6OHBws-wz51"
      },
      "execution_count": null,
      "outputs": []
    },
    {
      "cell_type": "code",
      "source": [],
      "metadata": {
        "id": "hj58KGfveuiT"
      },
      "execution_count": null,
      "outputs": []
    },
    {
      "cell_type": "code",
      "source": [],
      "metadata": {
        "id": "RFa5w8Gheuj8"
      },
      "execution_count": null,
      "outputs": []
    },
    {
      "cell_type": "code",
      "source": [],
      "metadata": {
        "id": "efb8rhebeumM"
      },
      "execution_count": null,
      "outputs": []
    },
    {
      "cell_type": "code",
      "source": [],
      "metadata": {
        "id": "XxQ4qiW0euoO"
      },
      "execution_count": null,
      "outputs": []
    },
    {
      "cell_type": "code",
      "source": [],
      "metadata": {
        "id": "9unBUAWAeuqU"
      },
      "execution_count": null,
      "outputs": []
    },
    {
      "cell_type": "code",
      "source": [],
      "metadata": {
        "id": "p0ZE-jyseusM"
      },
      "execution_count": null,
      "outputs": []
    },
    {
      "cell_type": "code",
      "source": [],
      "metadata": {
        "id": "XXdViW-zeuuU"
      },
      "execution_count": null,
      "outputs": []
    },
    {
      "cell_type": "code",
      "source": [],
      "metadata": {
        "id": "GbziPZbCeuwN"
      },
      "execution_count": null,
      "outputs": []
    },
    {
      "cell_type": "code",
      "source": [],
      "metadata": {
        "id": "nN0tehg1eux0"
      },
      "execution_count": null,
      "outputs": []
    },
    {
      "cell_type": "code",
      "source": [],
      "metadata": {
        "id": "35VQJFALe6EL"
      },
      "execution_count": null,
      "outputs": []
    }
  ]
}