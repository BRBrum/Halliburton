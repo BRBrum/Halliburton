{
  "nbformat": 4,
  "nbformat_minor": 0,
  "metadata": {
    "colab": {
      "provenance": [],
      "authorship_tag": "ABX9TyNmIeW1hjuwp+BxFErsiuB9",
      "include_colab_link": true
    },
    "kernelspec": {
      "name": "python3",
      "display_name": "Python 3"
    },
    "language_info": {
      "name": "python"
    }
  },
  "cells": [
    {
      "cell_type": "markdown",
      "metadata": {
        "id": "view-in-github",
        "colab_type": "text"
      },
      "source": [
        "<a href=\"https://colab.research.google.com/github/BRBrum/Halliburton/blob/main/EXCEL_TO_LAS.ipynb\" target=\"_parent\"><img src=\"https://colab.research.google.com/assets/colab-badge.svg\" alt=\"Open In Colab\"/></a>"
      ]
    },
    {
      "cell_type": "code",
      "source": [
        "!pip install lasio"
      ],
      "metadata": {
        "colab": {
          "base_uri": "https://localhost:8080/"
        },
        "id": "9W-EEvkjRxCz",
        "outputId": "83f1a29a-807d-431f-dad3-c9aad774590b"
      },
      "execution_count": 2,
      "outputs": [
        {
          "output_type": "stream",
          "name": "stdout",
          "text": [
            "Collecting lasio\n",
            "  Downloading lasio-0.31-py2.py3-none-any.whl.metadata (9.8 kB)\n",
            "Requirement already satisfied: numpy in /usr/local/lib/python3.10/dist-packages (from lasio) (1.26.4)\n",
            "Downloading lasio-0.31-py2.py3-none-any.whl (47 kB)\n",
            "\u001b[?25l   \u001b[90m━━━━━━━━━━━━━━━━━━━━━━━━━━━━━━━━━━━━━━━━\u001b[0m \u001b[32m0.0/47.4 kB\u001b[0m \u001b[31m?\u001b[0m eta \u001b[36m-:--:--\u001b[0m\r\u001b[2K   \u001b[90m━━━━━━━━━━━━━━━━━━━━━━━━━━━━━━━━━━━━━━━━\u001b[0m \u001b[32m47.4/47.4 kB\u001b[0m \u001b[31m1.9 MB/s\u001b[0m eta \u001b[36m0:00:00\u001b[0m\n",
            "\u001b[?25hInstalling collected packages: lasio\n",
            "Successfully installed lasio-0.31\n"
          ]
        }
      ]
    },
    {
      "cell_type": "code",
      "execution_count": 3,
      "metadata": {
        "colab": {
          "base_uri": "https://localhost:8080/"
        },
        "id": "BO8vGZivQDgJ",
        "outputId": "36c07310-a8cf-4e47-952f-3d57d118adbd"
      },
      "outputs": [
        {
          "output_type": "stream",
          "name": "stdout",
          "text": [
            "Arquivos LAS gerados com sucesso!\n"
          ]
        }
      ],
      "source": [
        "# Este script le o arquivo em formato Excel da ANP, com dados geoquimicios, e\n",
        "# transforma o formato para aquivo digital de poço em formato .las.\n",
        "\n",
        "import pandas as pd\n",
        "import lasio\n",
        "import os\n",
        "\n",
        "# Caminhos de entrada e saída (inserir o path do arquivo de entrada)\n",
        "input_file_path = r'/content/GQ1_Bacia_Paranß_COTP_Area_Blocos 2.xlsx'\n",
        "# Inserir o oloca que será gravado os arquivos de saíd.\n",
        "output_directory = r'/content/'\n",
        "\n",
        "# Carregar o arquivo Excel\n",
        "df = pd.read_excel(input_file_path, usecols=\"A,E:O\")\n",
        "\n",
        "# Preencher os valores de profundidade e atributos para cada poço\n",
        "df['Poço'] = df['Nome Poço ANP'].ffill()  # Preencher valores faltantes com o nome do poço anterior\n",
        "\n",
        "# Separar os dados por poço, excluindo a coluna 'Poço'\n",
        "dados_pocos = {poço: grupo.drop(columns=['Nome Poço ANP', 'Poço']).reset_index(drop=True)\n",
        "               for poço, grupo in df.groupby('Poço')}\n",
        "\n",
        "# Função para criar um arquivo LAS a partir dos dados do poço\n",
        "def criar_las(poco_id, dados):\n",
        "    las = lasio.LASFile()\n",
        "\n",
        "    # Adicionar informações do cabeçalho\n",
        "    las.well['WELL'].value = poco_id\n",
        "    las.well['COMP'].value = 'Companhia de Petróleo'\n",
        "    las.well['LOC'].value = 'Localização'\n",
        "    las.well['PROV'].value = 'Bacia'\n",
        "\n",
        "    # Adicionar dados de profundidade\n",
        "    las.append_curve('DEPTH', dados.iloc[:, 0].values, unit='m', descr='Profundidade (m)')\n",
        "\n",
        "    # Adicionar dados dos atributos, exceto 'Poço'\n",
        "    for col in dados.columns[1:]:\n",
        "        las.append_curve(col, dados[col].values)\n",
        "\n",
        "    # Salvar o arquivo LAS no diretório especificado\n",
        "    output_file_path = os.path.join(output_directory, f'{poco_id}.las')\n",
        "    las.write(output_file_path)\n",
        "\n",
        "# Gerar arquivos LAS para cada poço\n",
        "for poco_id, dados in dados_pocos.items():\n",
        "    criar_las(poco_id, dados)\n",
        "\n",
        "print(\"Arquivos LAS gerados com sucesso!\")"
      ]
    },
    {
      "cell_type": "code",
      "source": [],
      "metadata": {
        "id": "IeHg4Q3_Rvfz"
      },
      "execution_count": null,
      "outputs": []
    }
  ]
}