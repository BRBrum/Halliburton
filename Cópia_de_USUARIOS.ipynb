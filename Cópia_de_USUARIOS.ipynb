{
  "nbformat": 4,
  "nbformat_minor": 0,
  "metadata": {
    "colab": {
      "provenance": [],
      "authorship_tag": "ABX9TyMz2squVc9JdI5lQMBvolGy",
      "include_colab_link": true
    },
    "kernelspec": {
      "name": "python3",
      "display_name": "Python 3"
    },
    "language_info": {
      "name": "python"
    }
  },
  "cells": [
    {
      "cell_type": "markdown",
      "metadata": {
        "id": "view-in-github",
        "colab_type": "text"
      },
      "source": [
        "<a href=\"https://colab.research.google.com/github/BRBrum/Halliburton/blob/main/C%C3%B3pia_de_USUARIOS.ipynb\" target=\"_parent\"><img src=\"https://colab.research.google.com/assets/colab-badge.svg\" alt=\"Open In Colab\"/></a>"
      ]
    },
    {
      "cell_type": "code",
      "source": [
        "# Tabelas do Eduardo\n",
        "\n",
        "import os\n",
        "import pandas as pd\n",
        "\n",
        "# Defina o caminho da pasta onde os arquivos estão localizados\n",
        "folder_path = '/content/'\n",
        "\n",
        "# Lista para armazenar os DataFrames\n",
        "dataframes = []\n",
        "\n",
        "# Percorra todos os arquivos na pasta\n",
        "for file_name in os.listdir(folder_path):\n",
        "    if file_name.startswith('Listagem') and (file_name.endswith('.txt') or file_name.endswith('.csv')):\n",
        "        file_path = os.path.join(folder_path, file_name)\n",
        "\n",
        "        # Leia o arquivo em um DataFrame, ignorando as linhas de cabeçalho e a linha separadora\n",
        "        df = pd.read_csv(file_path, sep='\\s+', skiprows=2, header=None, names=['PROJECT_DATABASE', 'PROJETO_INTERPRETACAO', 'USUARIO', 'PERMISSAO'])\n",
        "\n",
        "        # Adicione o DataFrame à lista\n",
        "        dataframes.append(df)\n",
        "\n",
        "# Combine todos os DataFrames em um único DataFrame\n",
        "combined_df = pd.concat(dataframes, ignore_index=True)\n",
        "\n",
        "# Lista de usuários oficiais do GBDI\n",
        "usuarios_gbdi = ['ABMY', 'B9KF', 'E411', 'E4G5', 'E81F', 'F5HP', 'FH9G', 'N7QM', 'NTU8', 'TXKH', 'TYZ2', 'Y11W', 'UT7U', 'UT8M']\n",
        "\n",
        "# Filtrar para encontrar usuários com permissão de MANAGER que não estão na lista GBDI\n",
        "non_gbdi_managers = combined_df[(combined_df['PERMISSAO'] == 'MANAGER') & (~combined_df['USUARIO'].isin(usuarios_gbdi))]\n",
        "\n",
        "# Listar todos os usuários que não são GBDI e têm permissão de MANAGER\n",
        "print(\"Usuários não GBDI com PERMISSÃO = MANAGER:\")\n",
        "print(non_gbdi_managers['USUARIO'].unique())\n",
        "\n",
        "# Listar em quais projetos esses usuários têm PERMISSÃO = MANAGER\n",
        "print(\"\\nDetalhes de projetos onde usuários não GBDI têm PERMISSÃO = MANAGER:\")\n",
        "print(non_gbdi_managers[['USUARIO', 'PROJETO_INTERPRETACAO']].drop_duplicates())\n"
      ],
      "metadata": {
        "colab": {
          "base_uri": "https://localhost:8080/"
        },
        "id": "ELNrR4j7wzhQ",
        "outputId": "774afaa6-9c8a-4984-c471-a53f7c3f335b"
      },
      "execution_count": null,
      "outputs": [
        {
          "output_type": "stream",
          "name": "stdout",
          "text": [
            "Usuários não GBDI com PERMISSÃO = MANAGER:\n",
            "[]\n",
            "\n",
            "Detalhes de projetos onde usuários não GBDI têm PERMISSÃO = MANAGER:\n",
            "Empty DataFrame\n",
            "Columns: [USUARIO, PROJETO_INTERPRETACAO]\n",
            "Index: []\n"
          ]
        }
      ]
    },
    {
      "cell_type": "code",
      "source": [
        "# Tabela da Ju\n",
        "\n",
        "import os\n",
        "import pandas as pd\n",
        "\n",
        "# Definir o caminho da pasta onde os arquivos estão localizados\n",
        "folder_path = '/content/'\n",
        "file_name = 'Perfis_iEnergy_jul24_COPY.csv'\n",
        "file_path = os.path.join(folder_path, file_name)\n",
        "\n",
        "# Carregar o arquivo de perfis se disponível\n",
        "if os.path.isfile(file_path):\n",
        "    df_perfis = pd.read_csv(file_path, delimiter=';', skip_blank_lines=True)\n",
        "    print(f\"Arquivo '{file_name}' carregado com sucesso.\")\n",
        "else:\n",
        "    print(f\"Arquivo '{file_name}' não encontrado na pasta '{folder_path}'.\")"
      ],
      "metadata": {
        "colab": {
          "base_uri": "https://localhost:8080/"
        },
        "id": "MnRB8Wk9wzl3",
        "outputId": "5b3c655d-c6a7-41d5-8186-a1ed04e195fc"
      },
      "execution_count": null,
      "outputs": [
        {
          "output_type": "stream",
          "name": "stdout",
          "text": [
            "Arquivo 'Perfis_iEnergy_jul24_COPY.csv' carregado com sucesso.\n"
          ]
        }
      ]
    },
    {
      "cell_type": "code",
      "source": [
        "# União das Tabelas\n",
        "\n",
        "import pandas as pd\n",
        "\n",
        "# Suponha que df_perfis já esteja definido e carregado com as colunas 'CHAVE' e 'NOME'\n",
        "# Suponha que combined_df já esteja definido e utilizado para outras análises como mencionado anteriormente\n",
        "\n",
        "# 1 Lista de IDs de usuários GBDI\n",
        "usuarios_gbdi = ['ABMY', 'B9KF', 'E411', 'E4G5', 'E81F', 'F5HP', 'FH9G', 'N7QM', 'NTU8', 'TXKH', 'TYZ2', 'Y11W', 'UT7U', 'UT8M']\n",
        "\n",
        "# Filtrar os dados de perfis para obter apenas os usuários GBDI\n",
        "usuarios_gbdi_info = df_perfis[df_perfis['CHAVE'].isin(usuarios_gbdi)]\n",
        "\n",
        "# Converter nomes para maiúsculas, se desejar manter consistência de formatação\n",
        "usuarios_gbdi_info['NOME'] = usuarios_gbdi_info['NOME'].str.upper()\n",
        "\n",
        "# Mostrar os nomes dos usuários GBDI\n",
        "print(\"Nomes dos usuários GBDI oficiais:\")\n",
        "print(usuarios_gbdi_info[['CHAVE', 'NOME']])\n"
      ],
      "metadata": {
        "colab": {
          "base_uri": "https://localhost:8080/"
        },
        "id": "ddytU9IFwzov",
        "outputId": "6a119f14-fb1c-4701-a1ad-c29071adea2b"
      },
      "execution_count": null,
      "outputs": [
        {
          "output_type": "stream",
          "name": "stdout",
          "text": [
            "Nomes dos usuários GBDI oficiais:\n",
            "    CHAVE                                           NOME\n",
            "1    ABMY                     RODRIGO BETTIM BERGAMASCHI\n",
            "13   B9KF                            TAINA SILVA RUCHIGA\n",
            "122  E411  CARMEN ALEJANDRA DE LA COROMOTO PENA ALVARADO\n",
            "124  E4G5                        VICTOR PORTAVALES SILVA\n",
            "126  E81F                       FLAVIO FERREIRA CARNEIRO\n",
            "182  N7QM                          MARCELO BRUM DOS REIS\n",
            "186  NTU8                       MARCELO DANTAS DE AMORIM\n",
            "203  TXKH                     MASAMITSU SANTANA KITAWARA\n",
            "206  TYZ2                      LEANDRO DO CARMO THOMPSON\n",
            "316  UT7U                        ANDRE QUEIROZ FERNANDES\n",
            "319  UT8M          BRUNO DE ALBUQUERQUE DA GRACA E COSTA\n",
            "330  Y11W                    LEONARDO AZEVEDO DE ANDRADE\n",
            "370  F5HP                         FEDERICO MARTIN PANELO\n",
            "413  FH9G                                   NATALY PAVON\n"
          ]
        },
        {
          "output_type": "stream",
          "name": "stderr",
          "text": [
            "<ipython-input-35-dd99022f30c4>:13: SettingWithCopyWarning:\n",
            "\n",
            "\n",
            "A value is trying to be set on a copy of a slice from a DataFrame.\n",
            "Try using .loc[row_indexer,col_indexer] = value instead\n",
            "\n",
            "See the caveats in the documentation: https://pandas.pydata.org/pandas-docs/stable/user_guide/indexing.html#returning-a-view-versus-a-copy\n",
            "\n"
          ]
        }
      ]
    },
    {
      "cell_type": "code",
      "source": [
        "# Usuários GBDI por GERÊNCIA\n",
        "\n",
        "import pandas as pd\n",
        "\n",
        "# Suponha que df_perfis já esteja definido e carregado com as colunas 'CHAVE', 'NOME' e 'GERÊNCIA'\n",
        "\n",
        "# Lista de IDs de usuários GBDI\n",
        "usuarios_gbdi = ['ABMY', 'B9KF', 'E411', 'E4G5', 'E81F', 'F5HP', 'FH9G', 'N7QM', 'NTU8', 'TXKH', 'TYZ2', 'Y11W', 'UT7U', 'UT8M']\n",
        "\n",
        "# Filtrar os dados de perfis para obter apenas os usuários GBDI\n",
        "usuarios_gbdi_info = df_perfis[df_perfis['CHAVE'].isin(usuarios_gbdi)]\n",
        "\n",
        "# Garantir que estamos pegando apenas os usuários GBDI com as colunas relevantes\n",
        "usuarios_gbdi_info = usuarios_gbdi_info[['CHAVE', 'NOME', 'GERÊNCIA']]\n",
        "\n",
        "# Agrupar os usuários por GERÊNCIA\n",
        "usuarios_gbdi_por_gerencia = usuarios_gbdi_info.groupby('GERÊNCIA')\n",
        "\n",
        "# Imprimir os usuários GBDI por GERÊNCIA\n",
        "print(\"Usuários GBDI por GERÊNCIA:\")\n",
        "for gerencia, grupo in usuarios_gbdi_por_gerencia:\n",
        "    print(f\"\\nGERÊNCIA: {gerencia}\")\n",
        "    print(grupo[['CHAVE', 'NOME']])"
      ],
      "metadata": {
        "colab": {
          "base_uri": "https://localhost:8080/"
        },
        "id": "ea-UC5wgwzzl",
        "outputId": "ff23b7c8-1204-4f01-fb60-f44631ca02f1"
      },
      "execution_count": null,
      "outputs": [
        {
          "output_type": "stream",
          "name": "stdout",
          "text": [
            "Usuários GBDI por GERÊNCIA:\n",
            "\n",
            "GERÊNCIA: EXP/TDAE/GDGG\n",
            "    CHAVE                                   NOME\n",
            "13   B9KF                    TAINA SILVA RUCHIGA\n",
            "126  E81F               FLAVIO FERREIRA CARNEIRO\n",
            "182  N7QM                  MARCELO BRUM DOS REIS\n",
            "186  NTU8               MARCELO DANTAS DE AMORIM\n",
            "203  TXKH             MASAMITSU SANTANA KITAWARA\n",
            "316  UT7U                ANDRE QUEIROZ FERNANDES\n",
            "319  UT8M  BRUNO DE ALBUQUERQUE DA GRACA E COSTA\n",
            "330  Y11W            LEONARDO AZEVEDO DE ANDRADE\n",
            "370  F5HP                 Federico Martin Panelo\n",
            "\n",
            "GERÊNCIA: EXP/TDAE/GDGG/GDGEOF\n",
            "    CHAVE                     NOME\n",
            "124  E4G5  VICTOR PORTAVALES SILVA\n",
            "\n",
            "GERÊNCIA: EXP/TDAE/SAE\n",
            "    CHAVE                                           NOME\n",
            "122  E411  CARMEN ALEJANDRA DE LA COROMOTO PENA ALVARADO\n",
            "206  TYZ2                      LEANDRO DO CARMO THOMPSON\n",
            "413  FH9G                                   NATALY PAVON\n",
            "\n",
            "GERÊNCIA: RES/GDTD/GDS\n",
            "  CHAVE                        NOME\n",
            "1  ABMY  RODRIGO BETTIM BERGAMASCHI\n"
          ]
        }
      ]
    },
    {
      "cell_type": "code",
      "source": [
        "# Usuários não GBDI com PERMISSÃO = MANAGER e seus projetos:\n",
        "\n",
        "import pandas as pd\n",
        "\n",
        "# Suponha que df_perfis já esteja definido e carregado com as colunas 'CHAVE' e 'NOME'\n",
        "# Suponha que combined_df já esteja definido e utilizado para outras análises\n",
        "\n",
        "# 1 Lista de IDs de usuários GBDI\n",
        "usuarios_gbdi = ['ABMY', 'B9KF', 'E411', 'E4G5', 'E81F', 'F5HP', 'FH9G', 'N7QM', 'NTU8', 'TXKH', 'TYZ2', 'Y11W', 'UT7U', 'UT8M']\n",
        "\n",
        "# Filtrar para encontrar usuários com permissão de MANAGER que não estão na lista GBDI\n",
        "non_gbdi_managers = combined_df[(combined_df['PERMISSAO'] == 'MANAGER') & (~combined_df['USUARIO'].isin(usuarios_gbdi))]\n",
        "\n",
        "# Exibir usuários não GBDI com permissão de MANAGER e os projetos onde têm esse acesso\n",
        "print(\"Usuários não GBDI com PERMISSÃO = MANAGER e seus projetos:\")\n",
        "print(non_gbdi_managers[['USUARIO', 'PROJETO_INTERPRETACAO']])\n",
        "\n",
        "# Se quiser incluir mais informações como o nome completo dos usuários do df_perfis\n",
        "# Faça um merge/join entre non_gbdi_managers e df_perfis baseado na chave 'USUARIO'\n",
        "if not non_gbdi_managers.empty:\n",
        "    non_gbdi_managers_detailed = non_gbdi_managers.merge(df_perfis, left_on='USUARIO', right_on='CHAVE', how='left')\n",
        "    print(\"\\nDetalhes dos usuários não GBDI com PERMISSÃO = MANAGER e seus projetos:\")\n",
        "    print(non_gbdi_managers_detailed[['USUARIO', 'NOME', 'PROJETO_INTERPRETACAO']])\n",
        "else:\n",
        "    print(\"Não há usuários não GBDI com PERMISSÃO = MANAGER.\")\n"
      ],
      "metadata": {
        "colab": {
          "base_uri": "https://localhost:8080/"
        },
        "id": "Xgb32yrCwzqz",
        "outputId": "08f364f4-0261-4c1f-803c-4ab66ead3a57"
      },
      "execution_count": null,
      "outputs": [
        {
          "output_type": "stream",
          "name": "stdout",
          "text": [
            "Usuários não GBDI com PERMISSÃO = MANAGER e seus projetos:\n",
            "Empty DataFrame\n",
            "Columns: [USUARIO, PROJETO_INTERPRETACAO]\n",
            "Index: []\n",
            "Não há usuários não GBDI com PERMISSÃO = MANAGER.\n"
          ]
        }
      ]
    },
    {
      "cell_type": "code",
      "source": [
        "# Projetos e permissões onde usuários GBDI não têm acesso MANAGE e quais são esses acessos, com nomes:\n",
        "\n",
        "import pandas as pd\n",
        "\n",
        "# Suponha que combined_df e df_perfis já estejam definidos e utilizados para outras análises\n",
        "\n",
        "# Lista de IDs de usuários GBDI\n",
        "usuarios_gbdi = ['ABMY', 'B9KF', 'E411', 'E4G5', 'E81F', 'F5HP', 'FH9G', 'N7QM', 'NTU8', 'TXKH', 'TYZ2', 'Y11W', 'UT7U', 'UT8M']\n",
        "\n",
        "# Filtrar combined_df para obter apenas os registros dos usuários GBDI\n",
        "gbdi_users = combined_df[combined_df['USUARIO'].isin(usuarios_gbdi)]\n",
        "\n",
        "# Filtrar para encontrar onde esses usuários GBDI não têm permissão de MANAGE e onde a permissão é diferente de MANAGE\n",
        "gbdi_non_manager_access = gbdi_users[gbdi_users['PERMISSAO'] != 'MANAGE']\n",
        "\n",
        "# Certificar que estamos listando apenas os acessos que são explicitamente diferentes de 'MANAGE'\n",
        "gbdi_non_manager_specific_access = gbdi_non_manager_access[gbdi_non_manager_access['PERMISSAO'] != 'MANAGE']\n",
        "\n",
        "# Juntar os resultados com df_perfis para adicionar o nome do usuário\n",
        "# Assumindo que df_perfis tem uma coluna 'CHAVE' para a chave do usuário e 'NOME' para o nome do usuário\n",
        "gbdi_non_manager_with_names = gbdi_non_manager_specific_access.merge(df_perfis, left_on='USUARIO', right_on='CHAVE', how='left')\n",
        "\n",
        "# Listar os projetos, as permissões e os nomes desses usuários GBDI\n",
        "print(\"Projetos e permissões onde usuários GBDI não têm acesso MANAGE e quais são esses acessos, com nomes:\")\n",
        "print(gbdi_non_manager_with_names[['USUARIO', 'NOME', 'PROJETO_INTERPRETACAO', 'PERMISSAO']])"
      ],
      "metadata": {
        "colab": {
          "base_uri": "https://localhost:8080/"
        },
        "id": "iCoRGe_-wztE",
        "outputId": "706d173f-0672-4539-d224-915ac89712cf"
      },
      "execution_count": null,
      "outputs": [
        {
          "output_type": "stream",
          "name": "stdout",
          "text": [
            "Projetos e permissões onde usuários GBDI não têm acesso MANAGE e quais são esses acessos, com nomes:\n",
            "  USUARIO                       NOME PROJETO_INTERPRETACAO    PERMISSAO\n",
            "0    N7QM      MARCELO BRUM DOS REIS             OMEGA_001  INTERPRETER\n",
            "1    E4G5    VICTOR PORTAVALES SILVA    ACERVO_REGIONAL_BR       BROWSE\n",
            "2    TYZ2  LEANDRO DO CARMO THOMPSON    ACERVO_REGIONAL_BR       BROWSE\n",
            "3    E4G5    VICTOR PORTAVALES SILVA      AFRICA_MEQ_OESTE       BROWSE\n",
            "4    TYZ2  LEANDRO DO CARMO THOMPSON      AFRICA_MEQ_OESTE       BROWSE\n",
            "5    TYZ2  LEANDRO DO CARMO THOMPSON   NFTX_SAM_DPTH_ANLYS  INTERPRETER\n"
          ]
        }
      ]
    },
    {
      "cell_type": "code",
      "source": [
        "# Usuários GBDI sem nenhum acesso nos projetos com nomes\n",
        "\n",
        "import pandas as pd\n",
        "from itertools import product\n",
        "\n",
        "# Suponha que combined_df e df_perfis já estejam definidos e utilizados para outras análises\n",
        "\n",
        "# Lista de IDs de usuários GBDI\n",
        "usuarios_gbdi = ['ABMY', 'B9KF', 'E411', 'E4G5', 'E81F', 'F5HP', 'FH9G', 'N7QM', 'NTU8', 'TXKH', 'TYZ2', 'Y11W', 'UT7U', 'UT8M']\n",
        "\n",
        "# Identificar todos os projetos listados em combined_df\n",
        "projetos = combined_df['PROJETO_INTERPRETACAO'].unique()\n",
        "\n",
        "# Criar um DataFrame com todas as combinações possíveis de usuários GBDI e projetos\n",
        "all_combinations = pd.DataFrame(list(product(usuarios_gbdi, projetos)), columns=['USUARIO', 'PROJETO_INTERPRETACAO'])\n",
        "\n",
        "# Fazer um left join com combined_df para identificar onde faltam permissões\n",
        "missing_access = all_combinations.merge(\n",
        "    combined_df[['USUARIO', 'PROJETO_INTERPRETACAO']],\n",
        "    on=['USUARIO', 'PROJETO_INTERPRETACAO'],\n",
        "    how='left',\n",
        "    indicator=True\n",
        ")\n",
        "\n",
        "# Filtrar apenas as combinações onde não há correspondência em combined_df\n",
        "missing_access = missing_access[missing_access['_merge'] == 'left_only']\n",
        "\n",
        "# Remover a coluna de merge indicator\n",
        "missing_access.drop(columns=['_merge'], inplace=True)\n",
        "\n",
        "# Adicionar informações do nome do usuário\n",
        "missing_access = missing_access.merge(df_perfis[['CHAVE', 'NOME']], left_on='USUARIO', right_on='CHAVE', how='left')\n",
        "\n",
        "# Listar os usuários e projetos GBDI sem nenhum acesso com nomes\n",
        "print(\"Usuários GBDI sem nenhum acesso nos projetos com nomes:\")\n",
        "print(missing_access[['USUARIO', 'NOME', 'PROJETO_INTERPRETACAO']].drop_duplicates())\n",
        "\n",
        "# Salvar os resultados em um arquivo CSV\n",
        "missing_access[['USUARIO', 'NOME', 'PROJETO_INTERPRETACAO']].drop_duplicates().to_csv('missing_gbdi_access_with_names.csv', index=False)\n",
        "print(\"Os dados foram salvos em 'missing_gbdi_access_with_names.csv'.\")\n"
      ],
      "metadata": {
        "colab": {
          "base_uri": "https://localhost:8080/"
        },
        "id": "v2Fegq-5wzxb",
        "outputId": "b6775049-019c-4a1a-a0e3-74f4cbd4b8cf"
      },
      "execution_count": null,
      "outputs": [
        {
          "output_type": "stream",
          "name": "stdout",
          "text": [
            "Usuários GBDI sem nenhum acesso nos projetos com nomes:\n",
            "    USUARIO                                   NOME PROJETO_INTERPRETACAO\n",
            "0      ABMY             RODRIGO BETTIM BERGAMASCHI              HMG_MSUL\n",
            "1      ABMY             RODRIGO BETTIM BERGAMASCHI         MSUL_PARTILHA\n",
            "2      ABMY             RODRIGO BETTIM BERGAMASCHI        AMAZ_DNG2_PROV\n",
            "3      ABMY             RODRIGO BETTIM BERGAMASCHI      PARANA_BID_12_SP\n",
            "4      ABMY             RODRIGO BETTIM BERGAMASCHI             PNB_BID11\n",
            "..      ...                                    ...                   ...\n",
            "506    UT8M  BRUNO DE ALBUQUERQUE DA GRACA E COSTA          FL3D_NW_IP_1\n",
            "507    UT8M  BRUNO DE ALBUQUERQUE DA GRACA E COSTA          FL3D_SE_IP_1\n",
            "508    UT8M  BRUNO DE ALBUQUERQUE DA GRACA E COSTA          FLNDR3D_IP_1\n",
            "509    UT8M  BRUNO DE ALBUQUERQUE DA GRACA E COSTA                    HG\n",
            "510    UT8M  BRUNO DE ALBUQUERQUE DA GRACA E COSTA               TEST_HV\n",
            "\n",
            "[511 rows x 3 columns]\n",
            "Os dados foram salvos em 'missing_gbdi_access_with_names.csv'.\n"
          ]
        }
      ]
    },
    {
      "cell_type": "code",
      "source": [
        "# Quantidade de usuários que não são GBDI por PROJECT_DATABASE\n",
        "\n",
        "import pandas as pd\n",
        "\n",
        "# Suponha que combined_df já esteja definido e utilizado para outras análises\n",
        "\n",
        "# Lista de IDs de usuários GBDI\n",
        "usuarios_gbdi = ['ABMY', 'B9KF', 'E411', 'E4G5', 'E81F', 'F5HP', 'FH9G', 'N7QM', 'NTU8', 'TXKH', 'TYZ2', 'Y11W', 'UT7U', 'UT8M']\n",
        "\n",
        "# Filtrar combined_df para excluir os usuários GBDI\n",
        "usuarios_nao_gbdi = combined_df[~combined_df['USUARIO'].isin(usuarios_gbdi)]\n",
        "\n",
        "# Agrupar por PROJECT_DATABASE e contar a quantidade de usuários únicos em cada projeto\n",
        "usuarios_por_projeto = usuarios_nao_gbdi.groupby('PROJECT_DATABASE')['USUARIO'].nunique()\n",
        "\n",
        "# Imprimir o resultado\n",
        "print(\"Quantidade de usuários que não são GBDI por PROJECT_DATABASE:\")\n",
        "print(usuarios_por_projeto)\n"
      ],
      "metadata": {
        "colab": {
          "base_uri": "https://localhost:8080/"
        },
        "id": "GJ7qcrUt6cJq",
        "outputId": "bef6c3f1-9423-4a60-d4d8-417667155f24"
      },
      "execution_count": null,
      "outputs": [
        {
          "output_type": "stream",
          "name": "stdout",
          "text": [
            "Quantidade de usuários que não são GBDI por PROJECT_DATABASE:\n",
            "PROJECT_DATABASE\n",
            "ACERVO_REGIONAL_BR      272\n",
            "AFRICA                   92\n",
            "AFRICA_ATLANTICO        270\n",
            "AMERICA_ATLANT_NORTE     23\n",
            "AMERICA_ATLANT_SUL      251\n",
            "AMERICA_DO_NORTE         14\n",
            "AMERICA_DO_SUL          119\n",
            "ATSULAME_TM_WGS8458W     77\n",
            "AUSTRALIA                 2\n",
            "BACIAS_TERRESTRES       100\n",
            "CARIBE                  254\n",
            "CATAR                    17\n",
            "DR_001_OMEGA              4\n",
            "GOLFO_PERSICO            17\n",
            "GPE_SIRGAS_TM42          44\n",
            "HMG_MSUL                  2\n",
            "INA_LAMBERT_WGS84         3\n",
            "INDIA                    19\n",
            "LIBRACORONA_PD           27\n",
            "LIBRAP1_UTM_SIRGAS45     11\n",
            "MARGEM_SUL              235\n",
            "MARGEQ_MERCAT_SIRGAS    111\n",
            "MLESTE_UTM_SIRGAS       119\n",
            "NFTX_SAM_DPTH_ANLYS       7\n",
            "NZL_TM_GDA94_MC174E      17\n",
            "OPP_AFRICA               12\n",
            "OPP_AMERICA_DO_SUL       22\n",
            "PAQUISTAO                17\n",
            "POR_ALENTEJO_DR           2\n",
            "PRESERVACAO_COMEXP        2\n",
            "R5000_DEMO                1\n",
            "TEST_HV                   2\n",
            "TUR_UTM_WGS84_MC33E      20\n",
            "Name: USUARIO, dtype: int64\n"
          ]
        }
      ]
    },
    {
      "cell_type": "code",
      "source": [
        "# Quantidade de usuários que não são GBDI por PROJETO_INTERPRETACAO\n",
        "\n",
        "import pandas as pd\n",
        "\n",
        "# Suponha que combined_df já esteja definido e utilizado para outras análises\n",
        "\n",
        "# Lista de IDs de usuários GBDI\n",
        "usuarios_gbdi = ['ABMY', 'B9KF', 'E411', 'E4G5', 'E81F', 'F5HP', 'FH9G', 'N7QM', 'NTU8', 'TXKH', 'TYZ2', 'Y11W', 'UT7U', 'UT8M']\n",
        "\n",
        "# Filtrar combined_df para excluir os usuários GBDI\n",
        "usuarios_nao_gbdi = combined_df[~combined_df['USUARIO'].isin(usuarios_gbdi)]\n",
        "\n",
        "# Agrupar por PROJETO_INTERPRETACAO e contar a quantidade de usuários únicos em cada projeto\n",
        "usuarios_por_projeto = usuarios_nao_gbdi.groupby('PROJETO_INTERPRETACAO')['USUARIO'].nunique()\n",
        "\n",
        "# Imprimir o resultado\n",
        "print(\"Quantidade de usuários que não são GBDI por PROJETO_INTERPRETACAO:\")\n",
        "print(usuarios_por_projeto)\n"
      ],
      "metadata": {
        "colab": {
          "base_uri": "https://localhost:8080/"
        },
        "id": "BRIxveWt7wgj",
        "outputId": "9405a426-5a34-4a61-ffe0-13eb6542b5b4"
      },
      "execution_count": null,
      "outputs": [
        {
          "output_type": "stream",
          "name": "stdout",
          "text": [
            "Quantidade de usuários que não são GBDI por PROJETO_INTERPRETACAO:\n",
            "PROJETO_INTERPRETACAO\n",
            "ACERVO_REGIONAL_BR     272\n",
            "ACF_CENTRAL_P3           3\n",
            "ACRE_MADRE              86\n",
            "ACRE_MDIOS               2\n",
            "AFRICA                   6\n",
            "                      ... \n",
            "TRINIDAD_TOBAGO_SHW     29\n",
            "TUR_UTM_WGS84_MC33E      3\n",
            "UIRAPURU_P4              3\n",
            "VEL_MARGEQ               2\n",
            "VEL_MARGEQ_IRB           2\n",
            "Name: USUARIO, Length: 162, dtype: int64\n"
          ]
        }
      ]
    },
    {
      "cell_type": "code",
      "source": [
        "# Projetos com apenas um usuário que não seja USUÁRIO GBDI (incluindo PROJECT_DATABASE e o nome do usuário na saída)\n",
        "import pandas as pd\n",
        "\n",
        "# Suponha que combined_df e df_perfis já estejam definidos e utilizados para outras análises\n",
        "\n",
        "# Lista de IDs de usuários GBDI\n",
        "usuarios_gbdi = ['ABMY', 'B9KF', 'E411', 'E4G5', 'E81F', 'F5HP', 'FH9G', 'N7QM', 'NTU8', 'TXKH', 'TYZ2', 'Y11W', 'UT7U', 'UT8M']\n",
        "\n",
        "# Filtrar combined_df para excluir os usuários GBDI\n",
        "usuarios_nao_gbdi = combined_df[~combined_df['USUARIO'].isin(usuarios_gbdi)]\n",
        "\n",
        "# Agrupar por PROJETO_INTERPRETACAO e contar a quantidade de usuários únicos em cada projeto\n",
        "usuarios_por_projeto = usuarios_nao_gbdi.groupby('PROJETO_INTERPRETACAO')['USUARIO'].nunique()\n",
        "\n",
        "# Filtrar para encontrar projetos com exatamente um usuário não GBDI\n",
        "projetos_com_um_nao_gbdi = usuarios_por_projeto[usuarios_por_projeto == 1].index\n",
        "\n",
        "# Filtrar o DataFrame original para obter detalhes dos projetos com um único usuário não GBDI\n",
        "detalhes_projetos = usuarios_nao_gbdi[usuarios_nao_gbdi['PROJETO_INTERPRETACAO'].isin(projetos_com_um_nao_gbdi)]\n",
        "\n",
        "# Juntar os resultados com df_perfis para adicionar o nome do usuário\n",
        "detalhes_projetos = detalhes_projetos.merge(df_perfis[['CHAVE', 'NOME']], left_on='USUARIO', right_on='CHAVE', how='left')\n",
        "\n",
        "# Manter apenas a primeira entrada de cada projeto (pois todos terão um único usuário)\n",
        "detalhes_projetos = detalhes_projetos.drop_duplicates(subset=['PROJETO_INTERPRETACAO'])\n",
        "\n",
        "# Imprimir o resultado\n",
        "print(\"Projetos com apenas um usuário que não seja USUÁRIO GBDI, incluindo PROJECT_DATABASE e o nome do usuário:\")\n",
        "print(detalhes_projetos[['PROJETO_INTERPRETACAO', 'PROJECT_DATABASE', 'USUARIO', 'NOME']])\n"
      ],
      "metadata": {
        "colab": {
          "base_uri": "https://localhost:8080/"
        },
        "id": "u8pjeVxu6cMS",
        "outputId": "e6c481ca-3302-4ae8-94ff-7c519bc702a0"
      },
      "execution_count": null,
      "outputs": [
        {
          "output_type": "stream",
          "name": "stdout",
          "text": [
            "Projetos com apenas um usuário que não seja USUÁRIO GBDI, incluindo PROJECT_DATABASE e o nome do usuário:\n",
            "  PROJETO_INTERPRETACAO PROJECT_DATABASE USUARIO NOME\n",
            "0              HMG_MSUL         HMG_MSUL     FSA  NaN\n",
            "1             FL2D_IP_1       R5000_DEMO   SVCOW  NaN\n",
            "2       FL2D_MERGE_IP_1       R5000_DEMO   SVCOW  NaN\n",
            "3          FL3D_NW_IP_1       R5000_DEMO   SVCOW  NaN\n",
            "4          FL3D_SE_IP_1       R5000_DEMO   SVCOW  NaN\n",
            "5          FLNDR3D_IP_1       R5000_DEMO   SVCOW  NaN\n"
          ]
        }
      ]
    },
    {
      "cell_type": "code",
      "source": [
        "# Projetos com apenas um usuário GBDI  (incluindo PROJECT_DATABASE e o nome do usuário na saída):\n",
        "\n",
        "import pandas as pd\n",
        "\n",
        "# Suponha que combined_df e df_perfis já estejam definidos e utilizados para outras análises\n",
        "\n",
        "# Lista de IDs de usuários GBDI\n",
        "usuarios_gbdi = ['ABMY', 'B9KF', 'E411', 'E4G5', 'E81F', 'F5HP', 'FH9G', 'N7QM', 'NTU8', 'TXKH', 'TYZ2', 'Y11W', 'UT7U', 'UT8M']\n",
        "\n",
        "# Filtrar combined_df para incluir apenas os usuários GBDI\n",
        "usuarios_gbdi_df = combined_df[combined_df['USUARIO'].isin(usuarios_gbdi)]\n",
        "\n",
        "# Agrupar por PROJETO_INTERPRETACAO e contar a quantidade de usuários GBDI únicos em cada projeto\n",
        "usuarios_gbdi_por_projeto = usuarios_gbdi_df.groupby('PROJETO_INTERPRETACAO')['USUARIO'].nunique()\n",
        "\n",
        "# Filtrar para encontrar projetos com exatamente um usuário GBDI\n",
        "projetos_com_um_gbdi = usuarios_gbdi_por_projeto[usuarios_gbdi_por_projeto == 1].index\n",
        "\n",
        "# Filtrar o DataFrame original para obter detalhes dos projetos com um único usuário GBDI\n",
        "detalhes_projetos_gbdi = usuarios_gbdi_df[usuarios_gbdi_df['PROJETO_INTERPRETACAO'].isin(projetos_com_um_gbdi)]\n",
        "\n",
        "# Juntar os resultados com df_perfis para adicionar o nome do usuário\n",
        "detalhes_projetos_gbdi = detalhes_projetos_gbdi.merge(df_perfis[['CHAVE', 'NOME']], left_on='USUARIO', right_on='CHAVE', how='left')\n",
        "\n",
        "# Manter apenas a primeira entrada de cada projeto (pois todos terão um único usuário)\n",
        "detalhes_projetos_gbdi = detalhes_projetos_gbdi.drop_duplicates(subset=['PROJETO_INTERPRETACAO'])\n",
        "\n",
        "# Imprimir o resultado\n",
        "print(\"Projetos com apenas um usuário GBDI, incluindo PROJECT_DATABASE e o nome do usuário:\")\n",
        "print(detalhes_projetos_gbdi[['PROJETO_INTERPRETACAO', 'PROJECT_DATABASE', 'USUARIO', 'NOME']])\n"
      ],
      "metadata": {
        "colab": {
          "base_uri": "https://localhost:8080/"
        },
        "id": "3skm6ckA6cRM",
        "outputId": "82051f1d-70e2-4c84-85ed-b2ebe562a94e"
      },
      "execution_count": null,
      "outputs": [
        {
          "output_type": "stream",
          "name": "stdout",
          "text": [
            "Projetos com apenas um usuário GBDI, incluindo PROJECT_DATABASE e o nome do usuário:\n",
            "Empty DataFrame\n",
            "Columns: [PROJETO_INTERPRETACAO, PROJECT_DATABASE, USUARIO, NOME]\n",
            "Index: []\n"
          ]
        }
      ]
    },
    {
      "cell_type": "code",
      "source": [],
      "metadata": {
        "id": "bauzo-0y6cTk"
      },
      "execution_count": null,
      "outputs": []
    },
    {
      "cell_type": "code",
      "source": [],
      "metadata": {
        "id": "6NzBzk976cVq"
      },
      "execution_count": null,
      "outputs": []
    },
    {
      "cell_type": "code",
      "source": [],
      "metadata": {
        "id": "KdoCkv4t6cXk"
      },
      "execution_count": null,
      "outputs": []
    },
    {
      "cell_type": "code",
      "source": [],
      "metadata": {
        "id": "fPrD11cQ6cZq"
      },
      "execution_count": null,
      "outputs": []
    },
    {
      "cell_type": "code",
      "source": [],
      "metadata": {
        "id": "1IU2b3ZH6cb5"
      },
      "execution_count": null,
      "outputs": []
    },
    {
      "cell_type": "code",
      "source": [],
      "metadata": {
        "id": "zcso3BJN6cdt"
      },
      "execution_count": null,
      "outputs": []
    },
    {
      "cell_type": "code",
      "source": [],
      "metadata": {
        "id": "h_e9yA666cfi"
      },
      "execution_count": null,
      "outputs": []
    },
    {
      "cell_type": "code",
      "source": [],
      "metadata": {
        "id": "9eo7O6NX6chT"
      },
      "execution_count": null,
      "outputs": []
    },
    {
      "cell_type": "code",
      "source": [],
      "metadata": {
        "id": "poJD0s4g6cjS"
      },
      "execution_count": null,
      "outputs": []
    },
    {
      "cell_type": "code",
      "source": [],
      "metadata": {
        "id": "tOyKAdOB6clN"
      },
      "execution_count": null,
      "outputs": []
    },
    {
      "cell_type": "code",
      "source": [],
      "metadata": {
        "id": "xCjeglCE6cna"
      },
      "execution_count": null,
      "outputs": []
    },
    {
      "cell_type": "code",
      "source": [],
      "metadata": {
        "id": "i1dYmWIS6cpS"
      },
      "execution_count": null,
      "outputs": []
    },
    {
      "cell_type": "code",
      "source": [],
      "metadata": {
        "id": "39W652UY6crC"
      },
      "execution_count": null,
      "outputs": []
    },
    {
      "cell_type": "code",
      "source": [],
      "metadata": {
        "id": "RmC5mjTcwz1j"
      },
      "execution_count": null,
      "outputs": []
    },
    {
      "cell_type": "code",
      "source": [],
      "metadata": {
        "id": "gs-XlG0-wz3k"
      },
      "execution_count": null,
      "outputs": []
    },
    {
      "cell_type": "code",
      "source": [],
      "metadata": {
        "id": "K6OHBws-wz51"
      },
      "execution_count": null,
      "outputs": []
    },
    {
      "cell_type": "code",
      "source": [],
      "metadata": {
        "id": "hj58KGfveuiT"
      },
      "execution_count": null,
      "outputs": []
    },
    {
      "cell_type": "code",
      "source": [],
      "metadata": {
        "id": "RFa5w8Gheuj8"
      },
      "execution_count": null,
      "outputs": []
    },
    {
      "cell_type": "code",
      "source": [],
      "metadata": {
        "id": "efb8rhebeumM"
      },
      "execution_count": null,
      "outputs": []
    },
    {
      "cell_type": "code",
      "source": [],
      "metadata": {
        "id": "XxQ4qiW0euoO"
      },
      "execution_count": null,
      "outputs": []
    },
    {
      "cell_type": "code",
      "source": [],
      "metadata": {
        "id": "9unBUAWAeuqU"
      },
      "execution_count": null,
      "outputs": []
    },
    {
      "cell_type": "code",
      "source": [],
      "metadata": {
        "id": "p0ZE-jyseusM"
      },
      "execution_count": null,
      "outputs": []
    },
    {
      "cell_type": "code",
      "source": [],
      "metadata": {
        "id": "XXdViW-zeuuU"
      },
      "execution_count": null,
      "outputs": []
    },
    {
      "cell_type": "code",
      "source": [],
      "metadata": {
        "id": "GbziPZbCeuwN"
      },
      "execution_count": null,
      "outputs": []
    },
    {
      "cell_type": "code",
      "source": [],
      "metadata": {
        "id": "nN0tehg1eux0"
      },
      "execution_count": null,
      "outputs": []
    },
    {
      "cell_type": "code",
      "source": [],
      "metadata": {
        "id": "35VQJFALe6EL"
      },
      "execution_count": null,
      "outputs": []
    }
  ]
}