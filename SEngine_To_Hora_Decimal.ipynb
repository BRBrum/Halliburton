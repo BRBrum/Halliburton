{
  "nbformat": 4,
  "nbformat_minor": 0,
  "metadata": {
    "colab": {
      "provenance": [],
      "toc_visible": true
    },
    "kernelspec": {
      "name": "python3",
      "display_name": "Python 3"
    },
    "language_info": {
      "name": "python"
    }
  },
  "cells": [
    {
      "cell_type": "code",
      "execution_count": 22,
      "metadata": {
        "id": "hgSL1fkfrRLD"
      },
      "outputs": [],
      "source": [
        "# Agora q você chegou aqui, faça o seguinte:\n",
        "#1- Copie tudo que está aqui (desde a primeira linha até a última);\n",
        "#2- Abra o Google Colab (https://colab.research.google.com/)\n",
        "#3- Clique em New Notebook;\n",
        "#4- Agora cole o script copiado;\n",
        "#5- Clique no ícone \"Ficheiros\" no lado esquerdo e depois, acima clique no ícone para fazer o upload do arquivo.\n",
        "#6- O arquivo vai ser carregado no Colab. Com o botão direito, copie o path do arquivo;\n",
        "#7- Substitua o nome do arquivo onde está escrito 'entrada.xlsx' (linha 26)\n",
        "#8- Execute o script clicando no botão play no canto superior no notebook.\n",
        "#9- O script vai transformar os dados que estão em dias, horas minutos e segundos em hora decimal em uma outra coluna;\n",
        "#10 - Será gerado um arquivo de saída (saida.xlsx). Com o botão direiro, transfira para o notebook.\n",
        "#Dúvidas, entrar em contato com Marcelo Brum 21 98057-8932\n",
        "\n",
        "import pandas as pd\n",
        "import re\n",
        "\n",
        "# Função para converter string de tempo para horas decimais\n",
        "def time_to_decimal(time_str):\n",
        "    if pd.isnull(time_str):  # Check if the string is NaN or None\n",
        "        return 0\n",
        "    factors = {'d': 24, 'h': 1, 'm': 1/60, 's': 1/3600}\n",
        "    matches = re.findall(r'(\\d+)([dhms])', time_str)\n",
        "    return sum(int(value) * factors[unit] for value, unit in matches)\n",
        "\n",
        "# Carrega o arquivo Excel, ajustando a linha do cabeçalho caso necessário\n",
        "df = pd.read_excel('entrada.xlsx', sheet_name='Sheet1', header=1)  # Ajuste o valor do header conforme necessário\n",
        "\n",
        "# Verifica se a coluna \"Duration\" está presente\n",
        "if 'Duration' not in df.columns:\n",
        "    raise KeyError('A coluna \"Duration\" não foi encontrada no DataFrame.')\n",
        "\n",
        "# Aplica a conversão à coluna \"Duration\"\n",
        "df['Duration Decimal'] = df['Duration'].apply(time_to_decimal)\n",
        "\n",
        "# Salva o DataFrame para um novo arquivo Excel\n",
        "df.to_excel('saida.xlsx', index=False)"
      ]
    },
    {
      "cell_type": "code",
      "source": [],
      "metadata": {
        "id": "z1t5a2p_7CTM"
      },
      "execution_count": null,
      "outputs": []
    }
  ]
}