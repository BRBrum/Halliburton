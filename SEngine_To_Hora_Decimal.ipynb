{
  "nbformat": 4,
  "nbformat_minor": 0,
  "metadata": {
    "colab": {
      "provenance": [],
      "toc_visible": true
    },
    "kernelspec": {
      "name": "python3",
      "display_name": "Python 3"
    },
    "language_info": {
      "name": "python"
    }
  },
  "cells": [
    {
      "cell_type": "code",
      "execution_count": 17,
      "metadata": {
        "id": "hgSL1fkfrRLD"
      },
      "outputs": [],
      "source": [
        "#Script Python no Google Colab. Copiar o script do GitHub e coloar no Colab.\n",
        "#Link para o Google Colab: https://colab.research.google.com/\n",
        "#Para utilizar o script faça o upload do arquivo a ser modificado.\n",
        "#Na linha 21, informe o caminho do arquivo a ser lido:\n",
        "#Se estiver rodando o script no Google Colab, clicar com o botão direito no arquivo,\n",
        "#copiar o path e colar substituindo o path no scrip.\n",
        "#Dúvidas, entrar em contato com Marcelo Brum 21 98057-8932\n",
        "\n",
        "import pandas as pd\n",
        "import re\n",
        "\n",
        "# Função para converter string de tempo para horas decimais\n",
        "def time_to_decimal(time_str):\n",
        "    if pd.isnull(time_str):  # Check if the string is NaN or None\n",
        "        return 0\n",
        "    factors = {'d': 24, 'h': 1, 'm': 1/60, 's': 1/3600}\n",
        "    matches = re.findall(r'(\\d+)([dhms])', time_str)\n",
        "    return sum(int(value) * factors[unit] for value, unit in matches)\n",
        "\n",
        "# Carrega o arquivo Excel, ajustando a linha do cabeçalho caso necessário\n",
        "df = pd.read_excel('entrada.xlsx', sheet_name='Sheet1', header=1)  # Ajuste o valor do header conforme necessário\n",
        "\n",
        "# Verifica se a coluna \"Duration\" está presente\n",
        "if 'Duration' not in df.columns:\n",
        "    raise KeyError('A coluna \"Duration\" não foi encontrada no DataFrame.')\n",
        "\n",
        "# Aplica a conversão à coluna \"Duration\"\n",
        "df['Duration Decimal'] = df['Duration'].apply(time_to_decimal)\n",
        "\n",
        "# Salva o DataFrame para um novo arquivo Excel\n",
        "df.to_excel('saida.xlsx', index=False)"
      ]
    },
    {
      "cell_type": "code",
      "source": [],
      "metadata": {
        "id": "z1t5a2p_7CTM"
      },
      "execution_count": null,
      "outputs": []
    }
  ]
}