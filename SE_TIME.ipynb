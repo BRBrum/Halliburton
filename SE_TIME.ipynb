{
  "nbformat": 4,
  "nbformat_minor": 0,
  "metadata": {
    "colab": {
      "provenance": []
    },
    "kernelspec": {
      "name": "python3",
      "display_name": "Python 3"
    },
    "language_info": {
      "name": "python"
    }
  },
  "cells": [
    {
      "cell_type": "code",
      "source": [
        "import pandas as pd\n",
        "import re\n",
        "\n",
        "# Função para converter string de tempo para horas decimais\n",
        "def time_to_decimal(time_str):\n",
        "    if pd.isnull(time_str):  # Verifica se a string é NaN ou None\n",
        "        return 0\n",
        "    factors = {'d': 24*60, 'h': 60, 'm': 1, 's': 1/60}\n",
        "    matches = re.findall(r'(\\d+)([dhms])', time_str)\n",
        "    return sum(int(value) * factors[unit] for value, unit in matches)\n",
        "\n",
        "# Função para converter string de tempo para minutos\n",
        "def time_to_minutes(time_str):\n",
        "    return time_to_decimal(time_str)  # Como a função já retorna minutos, podemos reutilizá-la\n",
        "\n",
        "# Carrega o arquivo Excel, ajustando a linha do cabeçalho caso necessário\n",
        "df = pd.read_excel('/content/entrada_mod.xlsx', sheet_name='Sheet1', header=1)\n",
        "\n",
        "# Verifica se a coluna \"Duration\" está presente\n",
        "if 'Duration' not in df.columns:\n",
        "    raise KeyError('A coluna \"Duration\" não foi encontrada no DataFrame.')\n",
        "\n",
        "# Aplica a conversão à coluna \"Duration\"\n",
        "df['Duration Minutes'] = df['Duration'].apply(time_to_minutes)  # Converte para minutos\n",
        "df['Duration Decimal'] = df['Duration Minutes'] / 60  # Converte para horas decimais\n",
        "\n",
        "# Carrega o arquivo Excel com as informações de gerência\n",
        "df_perfis = pd.read_excel('Perfis_iEnergy_dez23_unhide2.xls', sheet_name='iEnergy')\n",
        "\n",
        "# Cria uma coluna \"GERENCIA\" no DataFrame principal\n",
        "df['GERÊNCIA'] = None\n",
        "\n",
        "# Percorre os registros do DataFrame principal\n",
        "for i in range(len(df)):\n",
        "    # Obtém o nome do usuário\n",
        "    user = df.loc[i, 'User']\n",
        "\n",
        "    # Encontra o registro correspondente no DataFrame de perfis\n",
        "    df_perfis_row = df_perfis.loc[df_perfis['NOME'] == user]\n",
        "\n",
        "    # Se o registro for encontrado, atribui a gerência\n",
        "    if len(df_perfis_row) > 0:\n",
        "        df.loc[i, 'GERÊNCIA'] = df_perfis_row['GERÊNCIA'].values[0]\n",
        "\n",
        "# Create summary DataFrames\n",
        "summary_by_user = df.groupby('User')['Duration Minutes'].sum().reset_index()\n",
        "summary_by_state = df.groupby('State')['Duration Minutes'].sum().reset_index()\n",
        "summary_by_user_and_state = df.groupby(['User', 'State'])['Duration Minutes'].sum().reset_index()\n",
        "\n",
        "# Write to Excel\n",
        "with pd.ExcelWriter('saidaVF.xlsx') as writer:\n",
        "    df.to_excel(writer, index=False, sheet_name='Sheet1')\n",
        "    summary_by_user.to_excel(writer, index=False, sheet_name='Summary By User')\n",
        "    summary_by_state.to_excel(writer, index=False, sheet_name='Summary By State')\n",
        "    summary_by_user_and_state.to_excel(writer, index=False, sheet_name='Summary By User And State')\n",
        "    summary_by_gerencia_and_state.to_excel(writer, index=False, sheet_name='Summary By Gerencia And State')\n",
        "\n",
        "# O arquivo 'saida.xlsx' terá várias guias:\n",
        "# 'Sheet1' com os dados originais e colunas adicionais,\n",
        "# 'Summary By User' com o somatório do tempo por usuário,\n",
        "# 'Summary By State' com o somatório do tempo por estado,\n",
        "# 'Summary By User And State' com as colunas User, State Finished, State Killed e Duration Minutes.\n",
        "# 'Summary By Gerencia And State' com as colunas Gerencia, State e Duration Minutes."
      ],
      "metadata": {
        "id": "SyELr38e90Oz"
      },
      "execution_count": 6,
      "outputs": []
    }
  ]
}